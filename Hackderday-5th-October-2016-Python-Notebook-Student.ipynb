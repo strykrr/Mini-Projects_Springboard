{
 "cells": [
  {
   "cell_type": "code",
   "execution_count": null,
   "metadata": {
    "collapsed": true
   },
   "outputs": [],
   "source": [
    "/root/hackerday/21-leave-insurance-company/churn-orange.tsv.zip\n",
    "/root/hackerday/21-leave-insurance-company/churn-bigml-20.csv\n",
    "/root/hackerday/21-leave-insurance-company/churn-bigml-80.csv"
   ]
  },
  {
   "cell_type": "code",
   "execution_count": 3,
   "metadata": {
    "collapsed": false
   },
   "outputs": [],
   "source": [
    "import pandas as pd\n",
    "import numpy as np\n",
    "import matplotlib.pyplot as plt\n",
    "%matplotlib inline\n"
   ]
  },
  {
   "cell_type": "code",
   "execution_count": 4,
   "metadata": {
    "collapsed": true
   },
   "outputs": [],
   "source": [
    "# decision tree for churn dataset\n",
    "from sklearn import tree\n",
    "\n",
    "model = tree.DecisionTreeClassifier(criterion='gini')\n",
    "# criterion can be gini or entropy\n",
    "\n",
    "fit = model.fit(x_train,y_train)\n",
    "\n",
    "fit.score(x_train,y_train)\n",
    "\n",
    "predicted = fit.predict(x_test)"
   ]
  },
  {
   "cell_type": "code",
   "execution_count": 5,
   "metadata": {
    "collapsed": true
   },
   "outputs": [],
   "source": [
    "# random forest for churn dataset\n",
    "from sklearn.ensemble import RandomForestClassifier\n",
    "\n",
    "model = RandomForestClassifier(n_estimators=100)\n",
    "\n",
    "# criterion can be gini or entropy\n",
    "\n",
    "fit = model.fit(x_train,y_train)\n",
    "\n",
    "fit.score(x_train,y_train)\n",
    "\n",
    "predicted = fit.predict(x_test)"
   ]
  },
  {
   "cell_type": "code",
   "execution_count": 6,
   "metadata": {
    "collapsed": true
   },
   "outputs": [],
   "source": [
    "# gradient boosting model \n",
    "from sklearn.ensemble import GradientBoostingClassifier\n",
    "\n",
    "fit = GradientBoostingClassifier(n_estimators=100,learning_rate=1.0,max_depth=1)\n",
    "\n",
    "fit.fit(x_train,y_train)"
   ]
  },
  {
   "cell_type": "code",
   "execution_count": null,
   "metadata": {
    "collapsed": true
   },
   "outputs": [],
   "source": []
  }
 ],
 "metadata": {
  "kernelspec": {
   "display_name": "Python 2",
   "language": "python",
   "name": "python2"
  },
  "language_info": {
   "codemirror_mode": {
    "name": "ipython",
    "version": 2
   },
   "file_extension": ".py",
   "mimetype": "text/x-python",
   "name": "python",
   "nbconvert_exporter": "python",
   "pygments_lexer": "ipython2",
   "version": "2.7.12"
  }
 },
 "nbformat": 4,
 "nbformat_minor": 0
}
