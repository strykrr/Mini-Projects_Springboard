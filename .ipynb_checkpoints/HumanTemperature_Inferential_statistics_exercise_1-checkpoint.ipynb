{
 "cells": [
  {
   "cell_type": "markdown",
   "metadata": {},
   "source": [
    "# What is the True Normal Human Body Temperature? \n",
    "\n",
    "#### Background\n",
    "\n",
    "The mean normal body temperature was held to be 37$^{\\circ}$C or 98.6$^{\\circ}$F for more than 120 years since it was first conceptualized and reported by Carl Wunderlich in a famous 1868 book. But, is this value statistically correct?"
   ]
  },
  {
   "cell_type": "markdown",
   "metadata": {},
   "source": [
    "<h3>Exercises</h3>\n",
    "\n",
    "<p>In this exercise, you will analyze a dataset of human body temperatures and employ the concepts of hypothesis testing, confidence intervals, and statistical significance.</p>\n",
    "\n",
    "<p>Answer the following questions <b>in this notebook below and submit to your Github account</b>.</p> \n",
    "\n",
    "<ol>\n",
    "<li>  Is the distribution of body temperatures normal? \n",
    "    <ul>\n",
    "    <li> Although this is not a requirement for CLT to hold (read CLT carefully), it gives us some peace of mind that the population may also be normally distributed if we assume that this sample is representative of the population.\n",
    "    \n",
    "    </ul>\n",
    "<li>  Is the sample size large? Are the observations independent?\n",
    "    <ul>\n",
    "    <li> Remember that this is a condition for the CLT, and hence the statistical tests we are using, to apply.\n",
    "    </ul>\n",
    "<li>  Is the true population mean really 98.6 degrees F?\n",
    "    <ul>\n",
    "    <li> Would you use a one-sample or two-sample test? Why?\n",
    "    <li> In this situation, is it appropriate to use the $t$ or $z$ statistic? \n",
    "    <li> Now try using the other test. How is the result be different? Why?\n",
    "    </ul>\n",
    "<li>  Draw a small sample of size 10 from the data and repeat both tests. \n",
    "    <ul>\n",
    "    <li> Which one is the correct one to use? \n",
    "    <li> What do you notice? What does this tell you about the difference in application of the $t$ and $z$ statistic?\n",
    "    </ul>\n",
    "<li>  At what temperature should we consider someone's temperature to be \"abnormal\"?\n",
    "    <ul>\n",
    "    <li> Start by computing the margin of error and confidence interval.\n",
    "    </ul>\n",
    "<li>  Is there a significant difference between males and females in normal temperature?\n",
    "    <ul>\n",
    "    <li> What test did you use and why?\n",
    "    <li> Write a story with your conclusion in the context of the original problem.\n",
    "    </ul>\n",
    "</ol>\n",
    "\n",
    "You can include written notes in notebook cells using Markdown: \n",
    "   - In the control panel at the top, choose Cell > Cell Type > Markdown\n",
    "   - Markdown syntax: http://nestacms.com/docs/creating-content/markdown-cheat-sheet\n",
    "\n",
    "#### Resources\n",
    "\n",
    "+ Information and data sources: http://www.amstat.org/publications/jse/datasets/normtemp.txt, http://www.amstat.org/publications/jse/jse_data_archive.htm\n",
    "+ Markdown syntax: http://nestacms.com/docs/creating-content/markdown-cheat-sheet\n",
    "\n",
    "****\n"
   ]
  },
  {
   "cell_type": "markdown",
   "metadata": {},
   "source": [
    "\n",
    "<h3>1) Is the distribution of body temperatures normal? </h3>\n",
    "    \n",
    "     Although this is not a requirement for CLT to hold (read CLT carefully), it gives us some peace of mind that the population may also be normally distributed if we assume that this sample is representative of the population.\n"
   ]
  },
  {
   "cell_type": "code",
   "execution_count": 25,
   "metadata": {},
   "outputs": [],
   "source": [
    "import pandas as pd\n",
    "import numpy as np\n",
    "import matplotlib.pyplot as plt\n",
    "import statsmodels.api as sm\n",
    "import scipy.stats as stats\n",
    "from scipy.stats import norm\n",
    "import seaborn as sns\n",
    "sns.set()"
   ]
  },
  {
   "cell_type": "code",
   "execution_count": 18,
   "metadata": {},
   "outputs": [
    {
     "name": "stdout",
     "output_type": "stream",
     "text": [
      "   temperature gender  heart_rate\n",
      "0         99.3      F        68.0\n",
      "1         98.4      F        81.0\n",
      "2         97.8      M        73.0\n",
      "3         99.2      F        66.0\n",
      "4         98.0      F        73.0\n",
      "5         99.2      M        83.0\n",
      "6         98.0      M        71.0\n",
      "7         98.8      M        78.0\n",
      "8         98.4      F        84.0\n",
      "9         98.6      F        86.0\n"
     ]
    },
    {
     "data": {
      "text/html": [
       "<div>\n",
       "<style>\n",
       "    .dataframe thead tr:only-child th {\n",
       "        text-align: right;\n",
       "    }\n",
       "\n",
       "    .dataframe thead th {\n",
       "        text-align: left;\n",
       "    }\n",
       "\n",
       "    .dataframe tbody tr th {\n",
       "        vertical-align: top;\n",
       "    }\n",
       "</style>\n",
       "<table border=\"1\" class=\"dataframe\">\n",
       "  <thead>\n",
       "    <tr style=\"text-align: right;\">\n",
       "      <th></th>\n",
       "      <th>temperature</th>\n",
       "      <th>heart_rate</th>\n",
       "    </tr>\n",
       "  </thead>\n",
       "  <tbody>\n",
       "    <tr>\n",
       "      <th>count</th>\n",
       "      <td>130.000000</td>\n",
       "      <td>130.000000</td>\n",
       "    </tr>\n",
       "    <tr>\n",
       "      <th>mean</th>\n",
       "      <td>98.249231</td>\n",
       "      <td>73.761538</td>\n",
       "    </tr>\n",
       "    <tr>\n",
       "      <th>std</th>\n",
       "      <td>0.733183</td>\n",
       "      <td>7.062077</td>\n",
       "    </tr>\n",
       "    <tr>\n",
       "      <th>min</th>\n",
       "      <td>96.300000</td>\n",
       "      <td>57.000000</td>\n",
       "    </tr>\n",
       "    <tr>\n",
       "      <th>25%</th>\n",
       "      <td>97.800000</td>\n",
       "      <td>69.000000</td>\n",
       "    </tr>\n",
       "    <tr>\n",
       "      <th>50%</th>\n",
       "      <td>98.300000</td>\n",
       "      <td>74.000000</td>\n",
       "    </tr>\n",
       "    <tr>\n",
       "      <th>75%</th>\n",
       "      <td>98.700000</td>\n",
       "      <td>79.000000</td>\n",
       "    </tr>\n",
       "    <tr>\n",
       "      <th>max</th>\n",
       "      <td>100.800000</td>\n",
       "      <td>89.000000</td>\n",
       "    </tr>\n",
       "  </tbody>\n",
       "</table>\n",
       "</div>"
      ],
      "text/plain": [
       "       temperature  heart_rate\n",
       "count   130.000000  130.000000\n",
       "mean     98.249231   73.761538\n",
       "std       0.733183    7.062077\n",
       "min      96.300000   57.000000\n",
       "25%      97.800000   69.000000\n",
       "50%      98.300000   74.000000\n",
       "75%      98.700000   79.000000\n",
       "max     100.800000   89.000000"
      ]
     },
     "execution_count": 18,
     "metadata": {},
     "output_type": "execute_result"
    }
   ],
   "source": [
    "df = pd.read_csv(\"C:\\Project_Files\\human_temp\\data\\human_body_temperature.csv\")\n",
    "print(df.head(10))\n",
    "df.describe()"
   ]
  },
  {
   "cell_type": "code",
   "execution_count": 57,
   "metadata": {},
   "outputs": [
    {
     "data": {
      "image/png": "[encoded data removed]",
      "text/plain": [
       "<matplotlib.figure.Figure at 0xd2d2031470>"
      ]
     },
     "metadata": {},
     "output_type": "display_data"
    }
   ],
   "source": [
    "# Histogram plot of Temperatures.\n",
    "plt.hist(df.temperature,width=0.3,normed=True)\n",
    "plt.xlabel(\"Human body Temperature\")\n",
    "plt.ylabel(\"Frequency\")\n",
    "xs = np.linspace(96, 101, 100)\n",
    "sample_mean = df.temperature.mean()\n",
    "sample_std = df.temperature.std()\n",
    "pdf = stats.norm.pdf(xs, temp_mean, temp_std)\n",
    "plt.plot(xs, pdf)\n",
    "plt.show()"
   ]
  },
  {
   "cell_type": "code",
   "execution_count": null,
   "metadata": {
    "collapsed": true
   },
   "outputs": [],
   "source": [
    "<li><span style=\"color:blue\"> Histogram has the data spread out symmetrically on both the sides of the mean, this could be close to Normal distribution but the Histogram can be misleading due to the bin size</span>A"
   ]
  },
  {
   "cell_type": "code",
   "execution_count": 38,
   "metadata": {},
   "outputs": [
    {
     "data": {
      "image/png": "[encoded data removed]",
      "text/plain": [
       "<matplotlib.figure.Figure at 0x99818d9ba8>"
      ]
     },
     "metadata": {},
     "output_type": "display_data"
    }
   ],
   "source": [
    "#Boxplot of Temperatures\n",
    "sns.boxplot(df.temperature)\n",
    "plt.show()"
   ]
  },
  {
   "cell_type": "markdown",
   "metadata": {},
   "source": [
    "<li><span style=\"color:blue\">The Box plot seems symmetric by having the median equidistant from Q1 and Q3 and also the whiskers are of equal length</span>"
   ]
  },
  {
   "cell_type": "code",
   "execution_count": 41,
   "metadata": {},
   "outputs": [
    {
     "data": {
      "image/png": "[encoded data removed]",
      "text/plain": [
       "<matplotlib.figure.Figure at 0x998160e908>"
      ]
     },
     "metadata": {},
     "output_type": "display_data"
    }
   ],
   "source": [
    "#kernal Estimate Density plot \n",
    "sns.kdeplot(df.temperature,shade=True)\n",
    "plt.show()"
   ]
  },
  {
   "cell_type": "code",
   "execution_count": 59,
   "metadata": {},
   "outputs": [
    {
     "data": {
      "image/png": "[encoded data removed]",
      "text/plain": [
       "<matplotlib.figure.Figure at 0x99819b4d30>"
      ]
     },
     "metadata": {},
     "output_type": "display_data"
    }
   ],
   "source": [
    "\n",
    "sm.qqplot(df.temperature,line='s')\n",
    "plt.show()"
   ]
  },
  {
   "cell_type": "code",
   "execution_count": null,
   "metadata": {
    "collapsed": true
   },
   "outputs": [],
   "source": [
    "<li><span style=\"color:blue\"> QQ plot gives a better judgement for the normality test as we can see that majority of the data points lie on the line</li>\n",
    "<li><span style=\"color:blue\">Visual Exploration of the data using Histogram,Boxplot,Kernal Density and QQ plot shows that the distirbution is close to Normal.</li>"
   ]
  },
  {
   "cell_type": "markdown",
   "metadata": {
    "collapsed": true
   },
   "source": [
    "\n",
    " ### 2) Is the sample size large? Are the observations independent? \n",
    "     Remember that this is a condition for the CLT, and hence the statistical tests we are using, to apply.\n",
    "        \n",
    "    The sample distribution is approximately normal and we have a sample size of 130 (n > 30 ) which is large enough by statistics standards to meet the Central Limit Theorem when the distribution is not normal. we can use the Boostrap to simulate the means over and over to check if the means of the sample follows a Normal Distribution. \n",
    "    The observations seems independent having unique Temperature values for Male and Female \n",
    "       \n",
    "    "
   ]
  },
  {
   "cell_type": "code",
   "execution_count": 50,
   "metadata": {},
   "outputs": [
    {
     "data": {
      "image/png": "[encoded data removed]",
      "text/plain": [
       "<matplotlib.figure.Figure at 0xd2d1f8d748>"
      ]
     },
     "metadata": {},
     "output_type": "display_data"
    },
    {
     "name": "stdout",
     "output_type": "stream",
     "text": [
      "mean_avg =  98.2494359231\n"
     ]
    }
   ],
   "source": [
    "def bootstrap_reps(data,func,size=1):\n",
    "    sample_means = np.empty(size)\n",
    "    for i in range(size):\n",
    "             samples = np.random.choice(data,size=len(data))\n",
    "             sample_means[i] = func(samples)\n",
    "    return sample_means\n",
    "\n",
    "bootstrap_means = bootstrap_reps(df.temperature,np.mean,10000)\n",
    "plt.hist(bootstrap_means,bins = 50,normed=True)\n",
    "plt.show()\n",
    "\n",
    "print('mean_avg = ', np.mean(bootstrap_means))\n"
   ]
  },
  {
   "cell_type": "markdown",
   "metadata": {},
   "source": [
    "### 3) Is the true population mean really 98.6 degrees F?\n",
    "      * Would you use a one-sample or two-sample test? Why?\n",
    "      This is a one sample test as we trying to find the probability of having a mean normal temperature of 98.6 using the available experiment data. \n",
    "      \n",
    "      * In this situation, is it appropriate to use the  tt  or  zz  statistic?\n",
    "      It is appropriate to use T statistic Test since the population Standard Deviation is not available though sample size is greater than 30.\n",
    "      \n",
    "      \n",
    "      * Now try using the other test. How is the result be different? Why?\n",
    "        The Null Hypothesis can be rejected as the p value is less than 0.01 of significance  level. There  is a significant difference between t Test and z Test\n",
    "        and t distribution has to be considered though the sample size is greater than 30 to get more precise value. The p value gets closer as the sample gets biggger.\n",
    "        Based on the p value we can conclude that  the true population mean is not 98.6 F."
   ]
  },
  {
   "cell_type": "code",
   "execution_count": 58,
   "metadata": {},
   "outputs": [
    {
     "name": "stdout",
     "output_type": "stream",
     "text": [
      "The t-statistic is -5.455 and the p-value is 0.0000002\n"
     ]
    }
   ],
   "source": [
    "# calculate p value using t-test as the Standard Devaition of Population is unknown\n",
    "\n",
    "n = len(df.temperature)\n",
    "se = sample_std/np.sqrt(n)\n",
    "\n",
    "t_stat = (sample_mean - 98.6)/se\n",
    "p_value = stats.t.sf(np.abs(t_stat), n-1)*2\n",
    "print(\"The t-statistic is {:1.3f} and the p-value is {:1.7f}\".format(t_stat, p_value))"
   ]
  },
  {
   "cell_type": "code",
   "execution_count": 65,
   "metadata": {},
   "outputs": [
    {
     "name": "stdout",
     "output_type": "stream",
     "text": [
      "The z-statistic is -5.455 and the p-value is 0.00000005\n"
     ]
    }
   ],
   "source": [
    "# calculate p value using z-test assuming  the population Standard Devaition from the sample\n",
    "\n",
    "z_stat = (sample_mean - 98.6)/se\n",
    "p_val = stats.norm.sf(np.abs(z_stat))*2\n",
    "print(\"The z-statistic is {:1.3f} and the p-value is {:1.8f}\".format(z_stat, p_val))"
   ]
  },
  {
   "cell_type": "code",
   "execution_count": null,
   "metadata": {
    "collapsed": true
   },
   "outputs": [],
   "source": [
    "### 4) Draw a small sample of size 10 from the data and repeat both tests. \n",
    "    \n",
    "    * Which one is the correct one to use? \n",
    "      \n",
    "\n",
    "    * What do you notice? What does this tell you about the difference in application of the $t$ and $z$ statistic?"
   ]
  },
  {
   "cell_type": "code",
   "execution_count": 56,
   "metadata": {},
   "outputs": [
    {
     "name": "stdout",
     "output_type": "stream",
     "text": [
      "The t-statistic is -2.371 and the p-value is 0.0418442\n",
      "The z-statistic is -2.371 and the p-value is 0.01774277\n"
     ]
    }
   ],
   "source": [
    "tenSample = np.random.choice(df.temperature,10)\n",
    "ten_sample_mean = np.mean(tenSample)\n",
    "ten_sample_std = np.std(tenSample)\n",
    "\n",
    "ten_sample_se = ten_sample_std /np.sqrt(10)\n",
    "stat_val = (ten_sample_mean-98.6)/ten_sample_se\n",
    "\n",
    "t_test_p_value = stats.t.sf(np.abs(stat_val), 9)*2\n",
    "print(\"The t-statistic is {:1.3f} and the p-value is {:1.7f}\".format(stat_val, t_test_p_value))\n",
    "\n",
    "z_test_p_value = stats.norm.sf(np.abs(stat_val))*2\n",
    "print(\"The z-statistic is {:1.3f} and the p-value is {:1.8f}\".format(stat_val, z_test_p_value))"
   ]
  },
  {
   "cell_type": "code",
   "execution_count": null,
   "metadata": {
    "collapsed": true
   },
   "outputs": [],
   "source": [
    " ### 5) At what temperature should we consider someone's temperature to be \"abnormal\"?\n",
    "    \n",
    "     * Start by computing the margin of error and confidence interval.\n",
    "      "
   ]
  },
  {
   "cell_type": "code",
   "execution_count": 66,
   "metadata": {},
   "outputs": [
    {
     "name": "stdout",
     "output_type": "stream",
     "text": [
      "t-critical value: 1.97852449146\n",
      "Confidence interval: (98.122002905608042, 98.376458632853513)\n"
     ]
    }
   ],
   "source": [
    "# lets us calculate the Margin error by having the confidence level as 95 % \n",
    "t_critical = stats.t.ppf(q = 0.975, df=n-1)    # 97.5 since the distribution has two tails\n",
    "print(\"t-critical value:\",t_critical)       \n",
    "standard_error = sample_std/np.sqrt(n)\n",
    "margin_of_error = t_critical * standard_error\n",
    "confidence_interval = (sample_mean - margin_of_error,\n",
    "                       sample_mean + margin_of_error)  \n",
    "\n",
    "print(\"Confidence interval:\",confidence_interval)\n",
    "\n",
    "\n"
   ]
  },
  {
   "cell_type": "code",
   "execution_count": null,
   "metadata": {
    "collapsed": true
   },
   "outputs": [],
   "source": [
    "### 6) Is there a significant difference between males and females in normal temperature?\n",
    "     * What test did you use and why?\n",
    "       \n",
    "     * Write a story with your conclusion in the context of the original problem."
   ]
  }
 ],
 "metadata": {
  "kernelspec": {
   "display_name": "Python 3",
   "language": "python",
   "name": "python3"
  },
  "language_info": {
   "codemirror_mode": {
    "name": "ipython",
    "version": 3
   },
   "file_extension": ".py",
   "mimetype": "text/x-python",
   "name": "python",
   "nbconvert_exporter": "python",
   "pygments_lexer": "ipython3",
   "version": "3.6.2"
  }
 },
 "nbformat": 4,
 "nbformat_minor": 1
}
