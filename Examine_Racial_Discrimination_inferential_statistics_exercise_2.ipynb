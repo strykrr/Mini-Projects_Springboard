{
 "cells": [
  {
   "cell_type": "markdown",
   "metadata": {},
   "source": [
    "# Examining Racial Discrimination in the US Job Market\n",
    "\n",
    "### Background\n",
    "Racial discrimination continues to be pervasive in cultures throughout the world. Researchers examined the level of racial discrimination in the United States labor market by randomly assigning identical résumés to black-sounding or white-sounding names and observing the impact on requests for interviews from employers.\n",
    "\n",
    "### Data\n",
    "In the dataset provided, each row represents a resume. The 'race' column has two values, 'b' and 'w', indicating black-sounding and white-sounding. The column 'call' has two values, 1 and 0, indicating whether the resume received a call from employers or not.\n",
    "\n",
    "Note that the 'b' and 'w' values in race are assigned randomly to the resumes when presented to the employer."
   ]
  },
  {
   "cell_type": "markdown",
   "metadata": {},
   "source": [
    "### Exercises\n",
    "You will perform a statistical analysis to establish whether race has a significant impact on the rate of callbacks for resumes.\n",
    "\n",
    "Answer the following questions **in this notebook below and submit to your Github account**. \n",
    "\n",
    "   1. What test is appropriate for this problem? Does CLT apply?\n",
    "   2. What are the null and alternate hypotheses?\n",
    "   3. Compute margin of error, confidence interval, and p-value.\n",
    "   4. Write a story describing the statistical significance in the context or the original problem.\n",
    "   5. Does your analysis mean that race/name is the most important factor in callback success? Why or why not? If not, how would you amend your analysis?\n",
    "\n",
    "You can include written notes in notebook cells using Markdown: \n",
    "   - In the control panel at the top, choose Cell > Cell Type > Markdown\n",
    "   - Markdown syntax: http://nestacms.com/docs/creating-content/markdown-cheat-sheet\n",
    "\n",
    "\n",
    "#### Resources\n",
    "+ Experiment information and data source: http://www.povertyactionlab.org/evaluation/discrimination-job-market-united-states\n",
    "+ Scipy statistical methods: http://docs.scipy.org/doc/scipy/reference/stats.html \n",
    "+ Markdown syntax: http://nestacms.com/docs/creating-content/markdown-cheat-sheet\n",
    "****"
   ]
  },
  {
   "cell_type": "code",
   "execution_count": 1,
   "metadata": {
    "collapsed": true
   },
   "outputs": [],
   "source": [
    "import pandas as pd\n",
    "import numpy as np\n",
    "from scipy import stats"
   ]
  },
  {
   "cell_type": "code",
   "execution_count": 9,
   "metadata": {},
   "outputs": [],
   "source": [
    "data = pd.io.stata.read_stata(\"C:/Project_Files/racial_disc/us_job_market_discrimination.dta\")"
   ]
  },
  {
   "cell_type": "code",
   "execution_count": 82,
   "metadata": {},
   "outputs": [
    {
     "name": "stdout",
     "output_type": "stream",
     "text": [
      "total number of black-sounding resumes 2435\n",
      "number of the callbacks for black-sounding names 157.0\n",
      "total number of white-sounding resumes 2435\n",
      "number of the callbacks for white-sounding names 235.0\n"
     ]
    }
   ],
   "source": [
    "# number of callbacks for black-sounding names\n",
    "print(\"total number of black-sounding resumes\",sum(data['race']=='b'))\n",
    "print(\"number of the callbacks for black-sounding names\",sum(data['call'][data.race=='b'])) \n",
    "\n",
    "# number of callbacks for white-sounding names\n",
    "print(\"total number of white-sounding resumes\",sum(data['race']=='w'))\n",
    "print(\"number of the callbacks for white-sounding names\",sum(data['call'][data.race=='w']))\n"
   ]
  },
  {
   "cell_type": "markdown",
   "metadata": {},
   "source": [
    "### 1. What test is appropriate for this problem? Does CLT apply?\n",
    "       The main goal of this analysis is to determine the impact of race in resume call backs between black and white sounding names.we can use Z test for comparing the proportion of call backs between black and white sounding names.The sample size is large enough to meet the central limit theorem and also the distribution of proportion difference betweeen callback has normal distribution."
   ]
  },
  {
   "cell_type": "markdown",
   "metadata": {},
   "source": [
    "### 2. What are the null and alternate hypotheses?\n",
    "    Null hypothesis is prove that there is no difference in call backs between black and white sounding names.This can be done by stating that there is no difference in proprtion of call backs between black and white sounding names.\n",
    "    Alternative hyporthesis is to check if the call back proportion of blacks is lesser than white sounding names.\n",
    "       "
   ]
  },
  {
   "cell_type": "markdown",
   "metadata": {},
   "source": [
    "### 3. Compute margin of error, confidence interval, and p-value.\n",
    "    "
   ]
  },
  {
   "cell_type": "code",
   "execution_count": 97,
   "metadata": {},
   "outputs": [
    {
     "name": "stdout",
     "output_type": "stream",
     "text": [
      "standard error 0.00778337058668\n",
      "95% confidence interval: (-0.047, -0.017)\n",
      "p-value for differences in proprotion of call backs b/w black and white sounding names is:0.00002\n"
     ]
    }
   ],
   "source": [
    "#compute the Standard error from the proportions\n",
    "black_resumes = sum(data['race']=='b')\n",
    "black_call_backs = sum(data['call'][data.race=='b'])\n",
    "black_call_backs_proportion = black_call_backs/black_resumes\n",
    "black_nocall_proportion = (1 - black_call_backs_proportion)\n",
    "\n",
    "\n",
    "white_resumes = sum(data['race']=='w')\n",
    "white_call_backs = sum(data['call'][data.race=='w'])\n",
    "white_call_backs_proportion = white_call_backs/white_resumes\n",
    "white_nocall_proportion = (1 - white_call_backs_proportion)\n",
    "\n",
    "se = np.sqrt(((black_call_backs_proportion * black_nocall_proportion)/black_resumes) + \n",
    "             ((white_call_backs_proportion * white_nocall_proportion)/white_resumes))\n",
    "\n",
    "print(\"standard error\",se)\n",
    "\n",
    "# compute margin of error based on 95 % confidence level \n",
    "margin_of_error = stats.norm.isf(0.025)\n",
    "confidence_interval = [black_call_backs_proportion - white_call_backs_proportion - margin_of_error*se, \n",
    "                       black_call_backs_proportion - white_call_backs_proportion + margin_of_error*se ]\n",
    "print(\"95% confidence interval: ({:2.3f}, {:2.3f})\".format(confidence_interval[0],confidence_interval[1]))\n",
    "\n",
    "# calculate the p value  \n",
    "z_stat = (black_call_backs_proportion - white_call_backs_proportion) / se\n",
    "p_value = stats.norm.cdf(z_stat)\n",
    "print('p-value for differences in proprotion of call backs b/w black and white sounding names is:{:1.5f}'.format(p_value))"
   ]
  },
  {
   "cell_type": "markdown",
   "metadata": {},
   "source": [
    "### 4.Write a story describing the statistical significance in the context or the original problem.\n",
    "      The null hypothesis can be rejected based on the significance level of .05 , which means there is a significant difference in the number call backs recieved by the blacks and whites. As we can see from the data that whites recieve 50 % more calls than white. The confidence interval shows a clear difference where in the white have more call backs proportion in the lower and upper bound. "
   ]
  },
  {
   "cell_type": "markdown",
   "metadata": {},
   "source": [
    "### 5. Does your analysis mean that race/name is the most important factor in callback success? Why or why not? If not, how would you amend your analysis?\n",
    "       The basis of analysis is presumed on  white and black sounding names , there could be several other factors determining the call backs for an ad.We need to find the correlation of other factors on resume call backs to have a better understanding of racial discrimination from employers. "
   ]
  }
 ],
 "metadata": {
  "kernelspec": {
   "display_name": "Python 3",
   "language": "python",
   "name": "python3"
  },
  "language_info": {
   "codemirror_mode": {
    "name": "ipython",
    "version": 3
   },
   "file_extension": ".py",
   "mimetype": "text/x-python",
   "name": "python",
   "nbconvert_exporter": "python",
   "pygments_lexer": "ipython3",
   "version": "3.6.2"
  }
 },
 "nbformat": 4,
 "nbformat_minor": 1
}
